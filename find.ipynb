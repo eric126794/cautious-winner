{
 "cells": [
  {
   "cell_type": "code",
   "execution_count": 5,
   "metadata": {},
   "outputs": [
    {
     "name": "stdout",
     "output_type": "stream",
     "text": [
      "找到15次!\n"
     ]
    }
   ],
   "source": [
    "import requests\n",
    "url='https://www.ltn.com.tw/'\n",
    "html=requests.get(url)\n",
    "html.encoding=\"utf-8\"\n",
    "htmllist=html.text.splitlines()\n",
    "n=0\n",
    "for row in htmllist:\n",
    "    if \"香港\" in row:\n",
    "        n+=1\n",
    "print (\"找到{}次!\".format(n))"
   ]
  },
  {
   "cell_type": "code",
   "execution_count": null,
   "metadata": {},
   "outputs": [],
   "source": []
  }
 ],
 "metadata": {
  "kernelspec": {
   "display_name": "Python 3",
   "language": "python",
   "name": "python3"
  },
  "language_info": {
   "codemirror_mode": {
    "name": "ipython",
    "version": 3
   },
   "file_extension": ".py",
   "mimetype": "text/x-python",
   "name": "python",
   "nbconvert_exporter": "python",
   "pygments_lexer": "ipython3",
   "version": "3.7.3"
  }
 },
 "nbformat": 4,
 "nbformat_minor": 2
}
